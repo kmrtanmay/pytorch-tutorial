{
  "nbformat": 4,
  "nbformat_minor": 0,
  "metadata": {
    "colab": {
      "name": "pytorch-tutorial-feedforward-nn.ipynb",
      "provenance": [],
      "collapsed_sections": [],
      "authorship_tag": "ABX9TyN9/l2/E/e/DghBSSwzoFBp",
      "include_colab_link": true
    },
    "kernelspec": {
      "name": "python3",
      "display_name": "Python 3"
    }
  },
  "cells": [
    {
      "cell_type": "markdown",
      "metadata": {
        "id": "view-in-github",
        "colab_type": "text"
      },
      "source": [
        "<a href=\"https://colab.research.google.com/github/kmrtanmay/pytorch-tutorial/blob/master/pytorch_tutorial/basic_feedforward_nn.ipynb\" target=\"_parent\"><img src=\"https://colab.research.google.com/assets/colab-badge.svg\" alt=\"Open In Colab\"/></a>"
      ]
    },
    {
      "cell_type": "code",
      "metadata": {
        "id": "ljTeQg8-dvSQ",
        "colab_type": "code",
        "colab": {}
      },
      "source": [
        "import torch\n",
        "import torch.nn as nn\n",
        "import torchvision\n",
        "import torchvision.transforms as transforms"
      ],
      "execution_count": 0,
      "outputs": []
    },
    {
      "cell_type": "code",
      "metadata": {
        "id": "P7hykRX8eZte",
        "colab_type": "code",
        "colab": {
          "base_uri": "https://localhost:8080/",
          "height": 34
        },
        "outputId": "5ed957b9-0512-48cd-ebbc-7f1aea9e3155"
      },
      "source": [
        "# Device configuration\n",
        "device = torch.device('cuda' if torch.cuda.is_available() else 'cpu')\n",
        "print(device)\n"
      ],
      "execution_count": 360,
      "outputs": [
        {
          "output_type": "stream",
          "text": [
            "cpu\n"
          ],
          "name": "stdout"
        }
      ]
    },
    {
      "cell_type": "markdown",
      "metadata": {
        "id": "_3PbPXy2ektC",
        "colab_type": "text"
      },
      "source": [
        "# Hyper-parameters \n",
        "input_size = 784\n",
        "hidden_size = 500\n",
        "num_classes = 10\n",
        "num_epochs = 5\n",
        "batch_size = 100\n",
        "learning_rate = 0.001"
      ]
    },
    {
      "cell_type": "code",
      "metadata": {
        "id": "lyRlrMcMfGb3",
        "colab_type": "code",
        "colab": {}
      },
      "source": [
        "# Hyper-parameters \n",
        "input_size = 784\n",
        "hidden_size = 500\n",
        "\n",
        "num_classes = 10\n",
        "num_epochs = 5\n",
        "batch_size = 100\n",
        "learning_rate = 0.001\n"
      ],
      "execution_count": 0,
      "outputs": []
    },
    {
      "cell_type": "code",
      "metadata": {
        "id": "1Vmy-hcCf5wF",
        "colab_type": "code",
        "colab": {}
      },
      "source": [
        "# MNIST dataset \n",
        "train_dataset = torchvision.datasets.MNIST(root='../../data', \n",
        "                                           train=True, \n",
        "                                           transform=transforms.ToTensor(),  \n",
        "                                           download=True)\n",
        "test_dataset = torchvision.datasets.MNIST(root='../../data', \n",
        "                                          train=False, \n",
        "                                          transform=transforms.ToTensor())\n",
        "\n",
        "# Data loader\n",
        "train_loader = torch.utils.data.DataLoader(dataset=train_dataset, \n",
        "                                           batch_size=batch_size, \n",
        "                                           shuffle=True)\n",
        "\n",
        "test_loader = torch.utils.data.DataLoader(dataset=test_dataset, \n",
        "                                          batch_size=batch_size, \n",
        "                                          shuffle=False)"
      ],
      "execution_count": 0,
      "outputs": []
    },
    {
      "cell_type": "code",
      "metadata": {
        "id": "EjhfoZo9i8ot",
        "colab_type": "code",
        "colab": {}
      },
      "source": [
        "# Fully connected neural network with one hidden layer\n",
        "class NeuralNet(nn.Module):\n",
        "    def __init__(self, input_size, hidden_size, num_classes):\n",
        "        super(NeuralNet, self).__init__()\n",
        "        self.fc1 = nn.Linear(input_size, hidden_size) \n",
        "        self.relu = nn.ReLU()\n",
        "        self.fc2 = nn.Linear(hidden_size, num_classes)  \n",
        "    \n",
        "    def forward(self, x):\n",
        "        out = self.fc1(x)\n",
        "        out = self.relu(out)\n",
        "        out = self.fc2(out)\n",
        "        return out"
      ],
      "execution_count": 0,
      "outputs": []
    },
    {
      "cell_type": "code",
      "metadata": {
        "id": "W_zE9s1cilhx",
        "colab_type": "code",
        "colab": {}
      },
      "source": [
        "model = NeuralNet(input_size, hidden_size, num_classes).to(device)"
      ],
      "execution_count": 0,
      "outputs": []
    },
    {
      "cell_type": "code",
      "metadata": {
        "id": "EFHPIcYPjHoF",
        "colab_type": "code",
        "colab": {}
      },
      "source": [
        "# Loss and optimizer\n",
        "criterion = nn.CrossEntropyLoss()\n",
        "optimizer = torch.optim.Adam(model.parameters(), lr=learning_rate)  \n"
      ],
      "execution_count": 0,
      "outputs": []
    },
    {
      "cell_type": "code",
      "metadata": {
        "id": "U-8_JquJjMtZ",
        "colab_type": "code",
        "colab": {
          "base_uri": "https://localhost:8080/",
          "height": 538
        },
        "outputId": "a4e42d02-5a9a-4928-b675-9dfb81a47266"
      },
      "source": [
        "# Train the model\n",
        "total_step = len(train_loader)\n",
        "for epoch in range(num_epochs):\n",
        "    for i, (images, labels) in enumerate(train_loader):  \n",
        "        # Move tensors to the configured device\n",
        "        images = images.reshape(-1, 28*28).to(device)\n",
        "        labels = labels.to(device)\n",
        "        \n",
        "        # Forward pass\n",
        "        outputs = model(images)\n",
        "        loss = criterion(outputs, labels)\n",
        "        \n",
        "        # Backward and optimize\n",
        "        optimizer.zero_grad()\n",
        "        loss.backward()\n",
        "        optimizer.step()\n",
        "        \n",
        "        if (i+1) % 100 == 0:\n",
        "            print ('Epoch [{}/{}], Step [{}/{}], Loss: {:.4f}' \n",
        "                   .format(epoch+1, num_epochs, i+1, total_step, loss.item()))"
      ],
      "execution_count": 366,
      "outputs": [
        {
          "output_type": "stream",
          "text": [
            "Epoch [1/5], Step [100/600], Loss: 0.3455\n",
            "Epoch [1/5], Step [200/600], Loss: 0.1602\n",
            "Epoch [1/5], Step [300/600], Loss: 0.2737\n",
            "Epoch [1/5], Step [400/600], Loss: 0.1001\n",
            "Epoch [1/5], Step [500/600], Loss: 0.3010\n",
            "Epoch [1/5], Step [600/600], Loss: 0.2479\n",
            "Epoch [2/5], Step [100/600], Loss: 0.1190\n",
            "Epoch [2/5], Step [200/600], Loss: 0.1569\n",
            "Epoch [2/5], Step [300/600], Loss: 0.0881\n",
            "Epoch [2/5], Step [400/600], Loss: 0.3368\n",
            "Epoch [2/5], Step [500/600], Loss: 0.0386\n",
            "Epoch [2/5], Step [600/600], Loss: 0.1265\n",
            "Epoch [3/5], Step [100/600], Loss: 0.0901\n",
            "Epoch [3/5], Step [200/600], Loss: 0.0518\n",
            "Epoch [3/5], Step [300/600], Loss: 0.0779\n",
            "Epoch [3/5], Step [400/600], Loss: 0.1387\n",
            "Epoch [3/5], Step [500/600], Loss: 0.0246\n",
            "Epoch [3/5], Step [600/600], Loss: 0.0517\n",
            "Epoch [4/5], Step [100/600], Loss: 0.0477\n",
            "Epoch [4/5], Step [200/600], Loss: 0.0605\n",
            "Epoch [4/5], Step [300/600], Loss: 0.0216\n",
            "Epoch [4/5], Step [400/600], Loss: 0.0602\n",
            "Epoch [4/5], Step [500/600], Loss: 0.0387\n",
            "Epoch [4/5], Step [600/600], Loss: 0.0660\n",
            "Epoch [5/5], Step [100/600], Loss: 0.0112\n",
            "Epoch [5/5], Step [200/600], Loss: 0.0410\n",
            "Epoch [5/5], Step [300/600], Loss: 0.0546\n",
            "Epoch [5/5], Step [400/600], Loss: 0.0379\n",
            "Epoch [5/5], Step [500/600], Loss: 0.0119\n",
            "Epoch [5/5], Step [600/600], Loss: 0.0302\n"
          ],
          "name": "stdout"
        }
      ]
    },
    {
      "cell_type": "code",
      "metadata": {
        "id": "_tPyBPDgnXej",
        "colab_type": "code",
        "colab": {
          "base_uri": "https://localhost:8080/",
          "height": 34
        },
        "outputId": "7b7b8ffb-0990-487a-ef1b-f0b1fe4c5d04"
      },
      "source": [
        "# Test the model\n",
        "# In test phase, we don't need to compute gradients (for memory efficiency) \n",
        "with torch.no_grad():\n",
        "    correct = 0\n",
        "    total = 0\n",
        "    for images, labels in test_loader:\n",
        "        images = images.reshape(-1, 28*28).to(device)\n",
        "        labels = labels.to(device)\n",
        "        outputs = model(images)\n",
        "        _, predicted = torch.max(outputs.data, 1)\n",
        "        total += labels.size(0)\n",
        "        correct += (predicted == labels).sum().item()\n",
        "    print('Accuracy of the network on the 10000 test images: {} %'.format(100 * correct / total))\n",
        "        "
      ],
      "execution_count": 367,
      "outputs": [
        {
          "output_type": "stream",
          "text": [
            "Accuracy of the network on the 10000 test images: 97.87 %\n"
          ],
          "name": "stdout"
        }
      ]
    },
    {
      "cell_type": "markdown",
      "metadata": {
        "id": "O5rhyaCOkuzP",
        "colab_type": "text"
      },
      "source": [
        "hidden size ......  accuracy\n",
        "\n",
        "    1             27.85\n",
        "    2             60.21\n",
        "    5             88.88\n",
        "    20            94.46\n",
        "    50            96.50\n",
        "    200           97.55\n",
        "    400           97.58\n",
        "    450           97.82\n",
        "    500           98.05\n",
        "    550           97.89\n",
        "    600           97.88\n",
        "    1000          97.63\n",
        "    1500          98.06\n",
        "    2000          98.19\n",
        "    5000          97.76"
      ]
    },
    {
      "cell_type": "markdown",
      "metadata": {
        "id": "qb-hgBJwrxko",
        "colab_type": "text"
      },
      "source": [
        "epochs..accuracy\n",
        "\n",
        "### 4.......97.71\n",
        "### 5.......97.89\n",
        "### 6.......98.0\n",
        "### 8.......97.95"
      ]
    },
    {
      "cell_type": "markdown",
      "metadata": {
        "id": "B6rvKrzht1UQ",
        "colab_type": "text"
      },
      "source": [
        "\n",
        "```\n",
        "learning rate    accuracy\n",
        "0.0005           97.48\n",
        "0.001            98.05\n",
        "0.005            97.65\n",
        "0.01             96.77\n",
        "0.05             92.55\n",
        "```\n",
        "\n",
        "\n",
        "\n"
      ]
    },
    {
      "cell_type": "code",
      "metadata": {
        "id": "g0QUMAQir4DB",
        "colab_type": "code",
        "colab": {}
      },
      "source": [
        "# Save the model checkpoint\n",
        "torch.save(model.state_dict(), 'model.ckpt')"
      ],
      "execution_count": 0,
      "outputs": []
    }
  ]
}