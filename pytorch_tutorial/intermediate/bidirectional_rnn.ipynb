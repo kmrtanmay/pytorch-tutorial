{
  "nbformat": 4,
  "nbformat_minor": 0,
  "metadata": {
    "colab": {
      "name": "bidirectional_rnn.ipynb",
      "provenance": [],
      "authorship_tag": "ABX9TyMKMHHjhr756R5Drecew0Zg",
      "include_colab_link": true
    },
    "kernelspec": {
      "name": "python3",
      "display_name": "Python 3"
    }
  },
  "cells": [
    {
      "cell_type": "markdown",
      "metadata": {
        "id": "view-in-github",
        "colab_type": "text"
      },
      "source": [
        "<a href=\"https://colab.research.google.com/github/kmrtanmay/pytorch-tutorial/blob/master/pytorch_tutorial/intermediate/bidirectional_rnn.ipynb\" target=\"_parent\"><img src=\"https://colab.research.google.com/assets/colab-badge.svg\" alt=\"Open In Colab\"/></a>"
      ]
    },
    {
      "cell_type": "code",
      "metadata": {
        "id": "1SRDYFJeD_0Y",
        "colab_type": "code",
        "colab": {}
      },
      "source": [
        "import torch\n",
        "import torch.nn as nn\n",
        "import torchvision\n",
        "import torchvision.transforms as transforms"
      ],
      "execution_count": 0,
      "outputs": []
    },
    {
      "cell_type": "code",
      "metadata": {
        "id": "ry6f3cRfLmyz",
        "colab_type": "code",
        "colab": {}
      },
      "source": [
        "#device configuration\n",
        "device = torch.device('cuda'if torch.cuda.is_available() else 'cpu')"
      ],
      "execution_count": 0,
      "outputs": []
    },
    {
      "cell_type": "code",
      "metadata": {
        "id": "oxUlCTQeLxDo",
        "colab_type": "code",
        "colab": {}
      },
      "source": [
        "#Hyperparameters\n",
        "\n",
        "sequence_length = 28\n",
        "input_size = 28\n",
        "num_classes = 10\n",
        "num_layers = 2\n",
        "num_epochs = 2\n",
        "hidden_size = 128\n",
        "batch_size = 100\n",
        "lr = 0.003"
      ],
      "execution_count": 0,
      "outputs": []
    },
    {
      "cell_type": "code",
      "metadata": {
        "id": "lYigTY4xMfRI",
        "colab_type": "code",
        "colab": {}
      },
      "source": [
        "# MNIST dataset\n",
        "train_set = torchvision.datasets.MNIST(root='../../data/',\n",
        "                                        train = True,\n",
        "                                       transform = transforms.ToTensor(),\n",
        "                                       download=True)\n",
        "test_set = torchvision.datasets.MNIST(root = '../../data/',\n",
        "                                      train=False,\n",
        "                                      transform = transforms.ToTensor(),)"
      ],
      "execution_count": 0,
      "outputs": []
    },
    {
      "cell_type": "code",
      "metadata": {
        "id": "I_-5hP4tNW_u",
        "colab_type": "code",
        "colab": {}
      },
      "source": [
        "# DataLoader\n",
        "train_loader = torch.utils.data.DataLoader(dataset=train_set,\n",
        "                                           batch_size=batch_size,\n",
        "                                           shuffle=True)\n",
        "test_loader = torch.utils.data.DataLoader(dataset = test_set,\n",
        "                                          batch_size = batch_size,\n",
        "                                          shuffle = False)"
      ],
      "execution_count": 0,
      "outputs": []
    },
    {
      "cell_type": "code",
      "metadata": {
        "id": "btrfMP6UOSdq",
        "colab_type": "code",
        "colab": {}
      },
      "source": [
        "# Biderectional recurrent neural network(many-to-one)\n",
        "class BiRNN(nn.Module):\n",
        "  def __init__(self,input_size,hidden_size,num_layers,num_classes):\n",
        "    super(BiRNN,self).__init__()\n",
        "    self.hidden_size = hidden_size\n",
        "    self.num_layers = num_layers\n",
        "    self.lstm = nn.LSTM(input_size,hidden_size,num_layers,batch_first=True,bidirectional=True)\n",
        "    self.fc = nn.Linear(hidden_size*2,num_classes) # 2 for Bidirectional\n",
        "\n",
        "  def forward(self,x):\n",
        "    # set initial sets\n",
        "    h0 = torch.zeros(num_layers*2,x.size(0),hidden_size).to(device)\n",
        "    c0 = torch.zeros(num_layers*2,x.size(0),hidden_size).to(device)\n",
        "\n",
        "    # Forward propagate LSTM\n",
        "    out,_ = self.lstm(x,(h0,c0))\n",
        "\n",
        "    # Decode the hidden state of the last time step\n",
        "    out = self.fc(out[:,-1,:])\n",
        "    return out"
      ],
      "execution_count": 0,
      "outputs": []
    },
    {
      "cell_type": "code",
      "metadata": {
        "id": "X_LLFE7hP9Rj",
        "colab_type": "code",
        "colab": {}
      },
      "source": [
        "model = BiRNN(input_size,hidden_size,num_layers,num_classes).to(device)"
      ],
      "execution_count": 0,
      "outputs": []
    },
    {
      "cell_type": "code",
      "metadata": {
        "id": "tmrHZPT3S2VF",
        "colab_type": "code",
        "colab": {}
      },
      "source": [
        "# Loss and optimizer\n",
        "criterion = nn.CrossEntropyLoss()\n",
        "optimizer = torch.optim.Adam(model.parameters(),lr=lr)"
      ],
      "execution_count": 0,
      "outputs": []
    },
    {
      "cell_type": "code",
      "metadata": {
        "id": "kFZYVJ3ZR5zX",
        "colab_type": "code",
        "colab": {
          "base_uri": "https://localhost:8080/",
          "height": 228
        },
        "outputId": "1d516d58-788f-408e-c8a8-a1691134c730"
      },
      "source": [
        "#Train Model\n",
        "total_steps = len(train_loader)\n",
        "for epoch in range(num_epochs):\n",
        "  for i,(images,labels) in enumerate(train_loader):\n",
        "    images = images.reshape(-1,sequence_length,input_size).to(device)\n",
        "    labels = labels.to(device)\n",
        "\n",
        "    # Forward pass\n",
        "    output = model(images)\n",
        "    loss = criterion(output,labels)\n",
        "\n",
        "    # Backward propagation and optimize \n",
        "    optimizer.zero_grad()\n",
        "    loss.backward()\n",
        "    optimizer.step()\n",
        "\n",
        "    if (i+1)%100 == 0 :\n",
        "      print('Epoch ({}/{}) : steps ({}/{}) : loss {}'.format(epoch+1,num_epochs,i+1,total_steps,loss.item()))"
      ],
      "execution_count": 60,
      "outputs": [
        {
          "output_type": "stream",
          "text": [
            "Epoch (1/2) : steps (100/600) : loss 0.7224975824356079\n",
            "Epoch (1/2) : steps (200/600) : loss 0.1699470579624176\n",
            "Epoch (1/2) : steps (300/600) : loss 0.21214410662651062\n",
            "Epoch (1/2) : steps (400/600) : loss 0.16856706142425537\n",
            "Epoch (1/2) : steps (500/600) : loss 0.13517731428146362\n",
            "Epoch (1/2) : steps (600/600) : loss 0.23379196226596832\n",
            "Epoch (2/2) : steps (100/600) : loss 0.10072837769985199\n",
            "Epoch (2/2) : steps (200/600) : loss 0.12154239416122437\n",
            "Epoch (2/2) : steps (300/600) : loss 0.08036773651838303\n",
            "Epoch (2/2) : steps (400/600) : loss 0.13914139568805695\n",
            "Epoch (2/2) : steps (500/600) : loss 0.18723738193511963\n",
            "Epoch (2/2) : steps (600/600) : loss 0.09272439032793045\n"
          ],
          "name": "stdout"
        }
      ]
    },
    {
      "cell_type": "code",
      "metadata": {
        "id": "-ut2UbOfS1Wh",
        "colab_type": "code",
        "colab": {
          "base_uri": "https://localhost:8080/",
          "height": 34
        },
        "outputId": "580dfbfd-4b35-42c6-b4e3-efea9364cdef"
      },
      "source": [
        "# Test Model\n",
        "with torch.no_grad():\n",
        "  total = 0\n",
        "  correct= 0\n",
        "  for i,(images,labels) in enumerate(test_loader):\n",
        "    images = images.reshape(-1,sequence_length,input_size).to(device)\n",
        "    labels = labels.to(device)\n",
        "    output = model(images)\n",
        "    _,predicted = torch.max(output,1)\n",
        "    total += labels.size(0) \n",
        "    correct += (predicted == labels).sum().item()\n",
        "\n",
        "  print('Test accuracy of the model on 10000 test images : {} %'.format(100*correct/total)) \n"
      ],
      "execution_count": 61,
      "outputs": [
        {
          "output_type": "stream",
          "text": [
            "Test accuracy of the model on 10000 test images : 98.09 %\n"
          ],
          "name": "stdout"
        }
      ]
    },
    {
      "cell_type": "code",
      "metadata": {
        "id": "0z_CGw1rarRk",
        "colab_type": "code",
        "colab": {}
      },
      "source": [
        "# Save the model checkpoint\n",
        "torch.save(model.state_dict(),'model.ckpt')"
      ],
      "execution_count": 0,
      "outputs": []
    }
  ]
}